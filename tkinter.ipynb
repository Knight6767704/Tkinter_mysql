{
 "cells": [
  {
   "cell_type": "code",
   "execution_count": 7,
   "id": "1d2bd238",
   "metadata": {},
   "outputs": [],
   "source": [
    "import tkinter as tk"
   ]
  },
  {
   "cell_type": "code",
   "execution_count": 8,
   "id": "02a0efc3",
   "metadata": {},
   "outputs": [],
   "source": [
    "window=tk.Tk()"
   ]
  },
  {
   "cell_type": "code",
   "execution_count": 9,
   "id": "62d86250",
   "metadata": {},
   "outputs": [],
   "source": [
    "#tkinter gui tool\n",
    "window.mainloop()"
   ]
  },
  {
   "cell_type": "code",
   "execution_count": 13,
   "id": "55fdec1a",
   "metadata": {},
   "outputs": [],
   "source": [
    "window=tk.Tk()\n",
    "label=tk.Label(window,text=\"HelloWorld\")\n",
    "label.pack()\n",
    "window.mainloop()"
   ]
  },
  {
   "cell_type": "code",
   "execution_count": null,
   "id": "cb2d4b69",
   "metadata": {},
   "outputs": [],
   "source": [
    "#create a gui application enter records into databse\n",
    "from tkinter import *\n",
    "from tkinter import messagebox\n",
    "import pymysql as mysql\n",
    "def Ok():\n",
    "    studname=e1.get()\n",
    "    coursename=e2.get()\n",
    "    fee=e3.get()\n",
    "    mysqldb=mysql.connect(host=\"localhost\",user=\"root\",password=\"123456\",database=\"vizag\")\n",
    "    mycursor=mysqldb.cursor()\n",
    "    try:\n",
    "        sql=\"INSERT INTO record(stname,course,fee) VALUES (%s,%s,%s);\"\n",
    "        val=(studname,coursename,fee)\n",
    "        mycursor.execute(sql,val)\n",
    "        mysqldb.commit()\n",
    "        messagebox.showinfo(\"information\",\"Record insereted sucessfully...\")\n",
    "    except Exception as e:\n",
    "        print(e)\n",
    "        mysqldb.rollback()\n",
    "        mysqldb.close()\n",
    "root=Tk()\n",
    "root.title(\"Student Registration\")\n",
    "\n",
    "global e1\n",
    "global e2\n",
    "global e3\n",
    "            \n",
    "Label(root,text=\"student Name\").place(x=10,y=10)\n",
    "Label(root,text=\"Course\").place(x=10,y=40)\n",
    "Label(root,text=\"Fee\").place(x=10,y=70)\n",
    "e1=Entry(root)\n",
    "e1.place(x=140,y=10)\n",
    "e2=Entry(root)\n",
    "e2.place(x=140,y=40)\n",
    "e3=Entry(root)\n",
    "e3.place(x=140,y=80)\n",
    "Button(root,text=\"add\",command=Ok,height=3,width=13).place(x=10,y=120)\n",
    "root.mainloop()"
   ]
  }
 ],
 "metadata": {
  "kernelspec": {
   "display_name": "Python 3 (ipykernel)",
   "language": "python",
   "name": "python3"
  },
  "language_info": {
   "codemirror_mode": {
    "name": "ipython",
    "version": 3
   },
   "file_extension": ".py",
   "mimetype": "text/x-python",
   "name": "python",
   "nbconvert_exporter": "python",
   "pygments_lexer": "ipython3",
   "version": "3.10.9"
  }
 },
 "nbformat": 4,
 "nbformat_minor": 5
}
